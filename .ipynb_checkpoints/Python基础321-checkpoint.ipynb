{
 "cells": [
  {
   "cell_type": "code",
   "execution_count": 3,
   "metadata": {
    "collapsed": false
   },
   "outputs": [
    {
     "name": "stdout",
     "output_type": "stream",
     "text": [
      "3\n",
      "0.6666666666666666\n",
      "False\n"
     ]
    }
   ],
   "source": [
    "#运算\n",
    "print(1+2)\n",
    "print(2/3) #与java不同\n",
    "print(1==4)"
   ]
  },
  {
   "cell_type": "code",
   "execution_count": 1,
   "metadata": {
    "collapsed": false
   },
   "outputs": [
    {
     "name": "stdout",
     "output_type": "stream",
     "text": [
      "2\n"
     ]
    }
   ],
   "source": [
    "#缩进: x += 1前面有四个空格的缩进。通过缩进，Python识别出这两个语句是隶属于if。\n",
    "i = 1\n",
    "x = 1\n",
    "if i > 0:\n",
    "    x += 1\n",
    "print(x)    "
   ]
  },
  {
   "cell_type": "code",
   "execution_count": 2,
   "metadata": {
    "collapsed": false
   },
   "outputs": [
    {
     "name": "stdout",
     "output_type": "stream",
     "text": [
      "1\n",
      "2\n",
      "3\n",
      "5\n",
      "True\n"
     ]
    }
   ],
   "source": [
    "#循环\n",
    "'''\n",
    "基本构造是\n",
    "\n",
    "for 元素 in 序列: \n",
    "    statement\n",
    "\n",
    "'''\n",
    "for a in [1,2,3,5,True]:\n",
    "    print(a)\n"
   ]
  },
  {
   "cell_type": "code",
   "execution_count": 4,
   "metadata": {
    "collapsed": false
   },
   "outputs": [
    {
     "name": "stdout",
     "output_type": "stream",
     "text": [
      "range(0, 10)\n",
      "0\n",
      "1\n",
      "2\n",
      "3\n",
      "4\n",
      "5\n",
      "6\n",
      "7\n",
      "8\n",
      "9\n"
     ]
    }
   ],
   "source": [
    "#创建序列\n",
    "#介绍一个新的Python函数range()，来帮助你建立表。\n",
    "#这个函数的功能是新建一个表。这个表的元素都是整数，从0开始，下一个元素比前一个大1， 直到函数中所写的上限 （不包括该上限本身）\n",
    "y = range(10)\n",
    "print(y)\n",
    "for a in y:\n",
    "    print(a)\n"
   ]
  },
  {
   "cell_type": "code",
   "execution_count": 5,
   "metadata": {
    "collapsed": false
   },
   "outputs": [
    {
     "name": "stdout",
     "output_type": "stream",
     "text": [
      "10\n"
     ]
    }
   ],
   "source": [
    "'''\n",
    "while的用法是\n",
    "\n",
    "while 条件:\n",
    "    statement\n",
    "'''\n",
    "i = 0;\n",
    "while i < 10:\n",
    "    i += 1;\n",
    "print(i);    \n",
    "    "
   ]
  },
  {
   "cell_type": "code",
   "execution_count": 9,
   "metadata": {
    "collapsed": false
   },
   "outputs": [
    {
     "name": "stdout",
     "output_type": "stream",
     "text": [
      "0\n",
      "1\n",
      "3\n",
      "4\n",
      "5\n",
      "6\n",
      "7\n",
      "8\n",
      "9\n",
      "0\n",
      "1\n"
     ]
    }
   ],
   "source": [
    "#中断循环\n",
    "'''\n",
    "continue\n",
    "中断当前元素的语句,接下来的元素继续执行\n",
    "'''\n",
    "for i in range(10):\n",
    "    if i == 2: \n",
    "        continue;\n",
    "    print(i);\n",
    "\n",
    "'''\n",
    "break\n",
    "结束当前循环,跳出循环\n",
    "'''    \n",
    "for i in range(10):\n",
    "    if i == 2:        \n",
    "        break;\n",
    "    print(i);"
   ]
  },
  {
   "cell_type": "markdown",
   "metadata": {},
   "source": [
    "总结\n",
    "    range()\n",
    "    for 元素 in 序列:\n",
    "    while 条件:\n",
    "    continue\n",
    "    break"
   ]
  },
  {
   "cell_type": "code",
   "execution_count": 10,
   "metadata": {
    "collapsed": true
   },
   "outputs": [],
   "source": [
    "#函数的定义\n",
    "\n",
    "def square_sum(a,b):\n",
    "    return a**2+b**2;"
   ]
  },
  {
   "cell_type": "code",
   "execution_count": 11,
   "metadata": {
    "collapsed": false
   },
   "outputs": [
    {
     "data": {
      "text/plain": [
       "25"
      ]
     },
     "execution_count": 11,
     "metadata": {},
     "output_type": "execute_result"
    }
   ],
   "source": [
    "square_sum(3,4)"
   ]
  },
  {
   "cell_type": "markdown",
   "metadata": {},
   "source": [
    "总结\n",
    "\n",
    "def function_name(a,b,c):\n",
    "    statement\n",
    "    return something  # return不是必须的\n",
    "函数的目的： 提高程序的重复可用性。\n",
    "\n",
    "return     None\n",
    "\n",
    "通过位置，传递参数。\n",
    "\n",
    "基本数据类型的参数：值传递\n",
    "\n",
    "表作为参数：指针传递"
   ]
  }
 ],
 "metadata": {
  "kernelspec": {
   "display_name": "Python 3",
   "language": "python",
   "name": "python3"
  },
  "language_info": {
   "codemirror_mode": {
    "name": "ipython",
    "version": 3
   },
   "file_extension": ".py",
   "mimetype": "text/x-python",
   "name": "python",
   "nbconvert_exporter": "python",
   "pygments_lexer": "ipython3",
   "version": "3.5.1"
  }
 },
 "nbformat": 4,
 "nbformat_minor": 0
}
