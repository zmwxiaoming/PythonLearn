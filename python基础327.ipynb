{
 "cells": [
  {
   "cell_type": "code",
   "execution_count": 2,
   "metadata": {
    "collapsed": false
   },
   "outputs": [
    {
     "name": "stdout",
     "output_type": "stream",
     "text": [
      "zmw\n",
      "zmw\n",
      "please enter your name: zmw\n",
      "hello, zmw\n"
     ]
    }
   ],
   "source": [
    "#输入输出\n",
    "name = input();\n",
    "print(name);\n",
    "#也可以输出提示语\n",
    "name = input('please enter your name: ');\n",
    "print('hello,', name);"
   ]
  },
  {
   "cell_type": "code",
   "execution_count": 5,
   "metadata": {
    "collapsed": false
   },
   "outputs": [
    {
     "name": "stdout",
     "output_type": "stream",
     "text": [
      "I'm \"OK\"\n",
      "I'm \"OK\"\n"
     ]
    }
   ],
   "source": [
    "print('I\\'m \"OK\"');\n",
    "print('I\\'m \\\"OK\\\"');"
   ]
  },
  {
   "cell_type": "code",
   "execution_count": 7,
   "metadata": {
    "collapsed": false
   },
   "outputs": [
    {
     "name": "stdout",
     "output_type": "stream",
     "text": [
      "[1, 3, 5, 7, 2, 4]\n",
      "[1, 2, 5, 7, 3, 4]\n",
      "[1, 2, 3, 7, 5, 4]\n",
      "[1, 2, 3, 4, 7, 5]\n",
      "[1, 2, 3, 4, 5, 7]\n",
      "[1, 2, 3, 4, 5, 7]\n"
     ]
    }
   ],
   "source": [
    "#选择排序\n",
    "def selSort(L):\n",
    "    for i in range(len(L)):\n",
    "        num = i;\n",
    "        val = L[i];\n",
    "        for j in range(i+1,len(L)):\n",
    "            if val > L[j]:\n",
    "                num = j;\n",
    "                val = L[j];\n",
    "                temp = L[i];\n",
    "                L[i] = val;\n",
    "                L[num] = temp;\n",
    "        print(L);\n",
    "L = [1,3,5,7,2,4];\n",
    "selSort(L);\n",
    "                "
   ]
  },
  {
   "cell_type": "code",
   "execution_count": 12,
   "metadata": {
    "collapsed": false
   },
   "outputs": [
    {
     "name": "stdout",
     "output_type": "stream",
     "text": [
      "3\n",
      "6\n",
      "9\n",
      "[1, 2, 5, 5, 5, 2, 3, 3]\n",
      "<class 'NoneType'>\n",
      "[1, 2, 5, 5, 5, 2, 3, 3, 9]\n",
      "None\n",
      "[1, 5, 5, 5, 2, 3, 3, 9]\n",
      "None\n",
      "[10, 1, 5, 5, 5, 2, 3, 3, 9]\n"
     ]
    }
   ],
   "source": [
    "intList = [1,2,5,5,5,2,3,3,9];\n",
    "print(intList.count(5));#计数，看总共有多少个5\n",
    "print(intList.index(3));#查询 list的第一个3的下标\n",
    "print(intList.pop());# 从list中去除最后一个元素，并将该元素返回。\n",
    "print(intList);\n",
    "print(type(intList.append(9)));   #在 list 的最后增添一个新元素6, 无返回值\n",
    "print(intList);\n",
    "print(intList.remove(2))#移除第一个2,无返回值\n",
    "print(intList);\n",
    "print(intList.insert(0,10));#在下标为0的位置插入10\n",
    "print(intList);"
   ]
  },
  {
   "cell_type": "code",
   "execution_count": null,
   "metadata": {
    "collapsed": true
   },
   "outputs": [],
   "source": []
  }
 ],
 "metadata": {
  "kernelspec": {
   "display_name": "Python 3",
   "language": "python",
   "name": "python3"
  },
  "language_info": {
   "codemirror_mode": {
    "name": "ipython",
    "version": 3
   },
   "file_extension": ".py",
   "mimetype": "text/x-python",
   "name": "python",
   "nbconvert_exporter": "python",
   "pygments_lexer": "ipython3",
   "version": "3.5.1"
  }
 },
 "nbformat": 4,
 "nbformat_minor": 0
}
