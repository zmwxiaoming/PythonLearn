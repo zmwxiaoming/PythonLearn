{
 "cells": [
  {
   "cell_type": "markdown",
   "metadata": {},
   "source": [
    "\n",
    "Python使用类(class)和对象(object)，进行面向对象（object-oriented programming，简称OOP）的编程。\n",
    "\n",
    "面向对象的最主要目的是提高程序的重复使用性。我们这么早切入面向对象编程的原因是，Python的整个概念是基于对象的。了解OOP是进一步学习Python的关键。\n",
    "\n",
    "下面是对面向对象的一种理解，基于分类。"
   ]
  },
  {
   "cell_type": "code",
   "execution_count": 6,
   "metadata": {
    "collapsed": false
   },
   "outputs": [
    {
     "name": "stdout",
     "output_type": "stream",
     "text": [
      "True\n",
      "egg\n"
     ]
    }
   ],
   "source": [
    "class Bird(object):\n",
    "    haveFeather = True\n",
    "    wayOfReproduction = 'egg'\n",
    "summer = Bird()\n",
    "print(summer.haveFeather)\n",
    "print(summer.wayOfReproduction)"
   ]
  },
  {
   "cell_type": "code",
   "execution_count": 3,
   "metadata": {
    "collapsed": false
   },
   "outputs": [
    {
     "name": "stdout",
     "output_type": "stream",
     "text": [
      "after move: [5, 8]\n"
     ]
    }
   ],
   "source": [
    "class Bird(object):\n",
    "    haveFeather = True\n",
    "    wayOfReproduction = 'egg'\n",
    "    def move(self,dx,dy):\n",
    "        position = [0,0]\n",
    "        position[0] = position[0]+dx\n",
    "        position[1] = position[1]+dy\n",
    "        return position\n",
    "summer = Bird()\n",
    "print('after move:',summer.move(5,8))"
   ]
  },
  {
   "cell_type": "code",
   "execution_count": 5,
   "metadata": {
    "collapsed": false
   },
   "outputs": [
    {
     "name": "stdout",
     "output_type": "stream",
     "text": [
      "walk\n",
      "[20, 20]\n"
     ]
    }
   ],
   "source": [
    "#继承\n",
    "class Chicken(Bird):\n",
    "    wayOfMove = 'walk';\n",
    "    possibleInKFC = True;\n",
    "\n",
    "class Oriole(Bird):\n",
    "    wayOfMove = 'fly';\n",
    "    possibleInKFC = False;\n",
    "chicken = Chicken();\n",
    "print(chicken.wayOfMove)\n",
    "print(chicken.move(20,20))"
   ]
  },
  {
   "cell_type": "markdown",
   "metadata": {},
   "source": [
    "总结\n",
    "\n",
    "将东西根据属性归类 ( 将object归为class )\n",
    "\n",
    "方法是一种属性，表示动作\n",
    "\n",
    "用继承来说明父类-子类关系。子类自动具有父类的所有属性。\n",
    "\n",
    "self代表了根据类定义而创建的对象。\n",
    "\n",
    "建立对一个对象： 对象名 = 类名()\n",
    "\n",
    "引用对象的属性： object.attribute\n",
    "\n"
   ]
  },
  {
   "cell_type": "code",
   "execution_count": 7,
   "metadata": {
    "collapsed": false
   },
   "outputs": [
    {
     "name": "stdout",
     "output_type": "stream",
     "text": [
      "We are happy birds. happy happy\n"
     ]
    }
   ],
   "source": [
    "'''__init__()方法\n",
    "\n",
    "__init__()是一个特殊方法(special method)。Python有一些特殊方法。Python会特殊的对待它们。特殊方法的特点是名字前后有两个下划线。\n",
    "\n",
    "如果你在类中定义了__init__()这个方法，创建对象时，Python会自动调用这个方法。这个过程也叫初始化。\n",
    "summer = happyBird('Happy,Happy!')\n",
    "这里继承了Bird类，它的定义见上一讲。\n",
    "__init__()方法相当于java中的构造方法\n",
    "'''\n",
    "class happyBird(Bird):\n",
    "    def __init__(self,more_words):\n",
    "        print('We are happy birds.',more_words)\n",
    "\n",
    "chicken = happyBird(\"happy happy\")               \n"
   ]
  },
  {
   "cell_type": "code",
   "execution_count": 12,
   "metadata": {
    "collapsed": false
   },
   "outputs": [
    {
     "name": "stdout",
     "output_type": "stream",
     "text": [
      "male\n"
     ]
    }
   ],
   "source": [
    "class Human(object):\n",
    "    def __init__(self,inputGender):\n",
    "        self.gender = inputGender;\n",
    "    def genderCheck(self):\n",
    "        print(self.gender);\n",
    "        return self.gender;\n",
    "liLei = Human('male');\n",
    "liLei.genderCheck();"
   ]
  },
  {
   "cell_type": "code",
   "execution_count": null,
   "metadata": {
    "collapsed": true
   },
   "outputs": [],
   "source": [
    "class Book(object):\n",
    "    __init__(self,)"
   ]
  },
  {
   "cell_type": "code",
   "execution_count": null,
   "metadata": {
    "collapsed": true
   },
   "outputs": [],
   "source": []
  }
 ],
 "metadata": {
  "kernelspec": {
   "display_name": "Python 3",
   "language": "python",
   "name": "python3"
  },
  "language_info": {
   "codemirror_mode": {
    "name": "ipython",
    "version": 3
   },
   "file_extension": ".py",
   "mimetype": "text/x-python",
   "name": "python",
   "nbconvert_exporter": "python",
   "pygments_lexer": "ipython3",
   "version": "3.5.1"
  }
 },
 "nbformat": 4,
 "nbformat_minor": 0
}
